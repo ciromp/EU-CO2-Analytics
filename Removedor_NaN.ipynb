{
 "cells": [
  {
   "cell_type": "code",
   "execution_count": 19,
   "metadata": {
    "collapsed": false
   },
   "outputs": [
    {
     "name": "stdout",
     "output_type": "stream",
     "text": [
      "440645\n",
      "413971\n"
     ]
    }
   ],
   "source": [
    "import pandas as pd\n",
    "\n",
    "\n",
    "#Removedor de NaN\n",
    "\n",
    "#data = pd.read_csv(\"CO2_passenger_cars_v12_editado.csv\", encoding = 'latin2', low_memory=False)\n",
    "\n",
    "#df_result = []\n",
    "#for i,line in data.iterrows():\n",
    "#    if pd.isnull(str(line[\"e (g/km)\"])) == False and str(line[\"e (g/km)\"]).isnumeric() and pd.isnull(str(line[\"m (kg)\"])) == False and str(line[\"m (kg)\"]).isnumeric():\n",
    "#        df_result.append(line)\n",
    "\n",
    "#df_final = pd.DataFrame(df_result)\n",
    "\n",
    "#df_final.to_csv(\"CO2_passenger_cars_v12_withoutNaN.csv\", sep=\",\", encoding='latin2')\n",
    "\n",
    "#print(len(data))\n",
    "#print(len(df_final))\n",
    "\n",
    "# Fim do Removedor de NaN\n",
    "\n",
    "#Testando tamanhos csv Original csv sem NaN\n",
    "\n",
    "data = pd.read_csv(\"CO2_passenger_cars_v12_editado.csv\", encoding = 'latin2', low_memory=False)\n",
    "data2 = pd.read_csv(\"CO2_passenger_cars_v12_withoutNaN.csv\", encoding = \"latin2\", low_memory=False)\n",
    "\n",
    "print(len(data))\n",
    "print(len(data2))\n",
    "\n",
    "\n"
   ]
  },
  {
   "cell_type": "code",
   "execution_count": null,
   "metadata": {
    "collapsed": true
   },
   "outputs": [],
   "source": []
  }
 ],
 "metadata": {
  "kernelspec": {
   "display_name": "Python 3",
   "language": "python",
   "name": "python3"
  },
  "language_info": {
   "codemirror_mode": {
    "name": "ipython",
    "version": 3
   },
   "file_extension": ".py",
   "mimetype": "text/x-python",
   "name": "python",
   "nbconvert_exporter": "python",
   "pygments_lexer": "ipython3",
   "version": "3.6.0"
  }
 },
 "nbformat": 4,
 "nbformat_minor": 2
}
